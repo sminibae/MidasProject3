{
 "cells": [
  {
   "cell_type": "markdown",
   "metadata": {},
   "source": [
    "## Imports"
   ]
  },
  {
   "cell_type": "code",
   "execution_count": 1,
   "metadata": {},
   "outputs": [],
   "source": [
    "# imports\n",
    "import numpy as np\n",
    "import pandas as pd\n",
    "\n",
    "import matplotlib.pyplot as plt\n",
    "import seaborn as sns\n",
    "\n",
    "from datetime import datetime, timezone"
   ]
  },
  {
   "cell_type": "markdown",
   "metadata": {},
   "source": [
    "## Data Preprocessing"
   ]
  },
  {
   "cell_type": "code",
   "execution_count": 2,
   "metadata": {},
   "outputs": [
    {
     "data": {
      "text/html": [
       "<div>\n",
       "<style scoped>\n",
       "    .dataframe tbody tr th:only-of-type {\n",
       "        vertical-align: middle;\n",
       "    }\n",
       "\n",
       "    .dataframe tbody tr th {\n",
       "        vertical-align: top;\n",
       "    }\n",
       "\n",
       "    .dataframe thead th {\n",
       "        text-align: right;\n",
       "    }\n",
       "</style>\n",
       "<table border=\"1\" class=\"dataframe\">\n",
       "  <thead>\n",
       "    <tr style=\"text-align: right;\">\n",
       "      <th></th>\n",
       "      <th>Open time</th>\n",
       "      <th>Open</th>\n",
       "      <th>High</th>\n",
       "      <th>Low</th>\n",
       "      <th>Close</th>\n",
       "      <th>Volume</th>\n",
       "      <th>Close time</th>\n",
       "      <th>Quote asset volume</th>\n",
       "      <th>Number of trades</th>\n",
       "      <th>Taker buy base asset volume</th>\n",
       "      <th>Taker buy quote asset volume</th>\n",
       "      <th>plus_6</th>\n",
       "      <th>minus_6</th>\n",
       "      <th>zero_6</th>\n",
       "    </tr>\n",
       "  </thead>\n",
       "  <tbody>\n",
       "    <tr>\n",
       "      <th>0</th>\n",
       "      <td>1598918400000</td>\n",
       "      <td>0.28115</td>\n",
       "      <td>0.28139</td>\n",
       "      <td>0.28071</td>\n",
       "      <td>0.28072</td>\n",
       "      <td>380328.3</td>\n",
       "      <td>1598918579999</td>\n",
       "      <td>106892.301589</td>\n",
       "      <td>273</td>\n",
       "      <td>218211.7</td>\n",
       "      <td>61330.310857</td>\n",
       "      <td>0</td>\n",
       "      <td>1</td>\n",
       "      <td>0</td>\n",
       "    </tr>\n",
       "    <tr>\n",
       "      <th>1</th>\n",
       "      <td>1598918580000</td>\n",
       "      <td>0.28072</td>\n",
       "      <td>0.28090</td>\n",
       "      <td>0.28003</td>\n",
       "      <td>0.28026</td>\n",
       "      <td>624736.7</td>\n",
       "      <td>1598918759999</td>\n",
       "      <td>175160.051227</td>\n",
       "      <td>390</td>\n",
       "      <td>304653.2</td>\n",
       "      <td>85409.151785</td>\n",
       "      <td>0</td>\n",
       "      <td>1</td>\n",
       "      <td>0</td>\n",
       "    </tr>\n",
       "    <tr>\n",
       "      <th>2</th>\n",
       "      <td>1598918760000</td>\n",
       "      <td>0.28026</td>\n",
       "      <td>0.28027</td>\n",
       "      <td>0.27900</td>\n",
       "      <td>0.27955</td>\n",
       "      <td>1356014.6</td>\n",
       "      <td>1598918939999</td>\n",
       "      <td>379265.408111</td>\n",
       "      <td>604</td>\n",
       "      <td>423652.9</td>\n",
       "      <td>118467.894514</td>\n",
       "      <td>0</td>\n",
       "      <td>1</td>\n",
       "      <td>0</td>\n",
       "    </tr>\n",
       "    <tr>\n",
       "      <th>3</th>\n",
       "      <td>1598918940000</td>\n",
       "      <td>0.27953</td>\n",
       "      <td>0.28009</td>\n",
       "      <td>0.27906</td>\n",
       "      <td>0.28000</td>\n",
       "      <td>537899.0</td>\n",
       "      <td>1598919119999</td>\n",
       "      <td>150457.534717</td>\n",
       "      <td>334</td>\n",
       "      <td>397486.4</td>\n",
       "      <td>111204.348733</td>\n",
       "      <td>0</td>\n",
       "      <td>1</td>\n",
       "      <td>0</td>\n",
       "    </tr>\n",
       "    <tr>\n",
       "      <th>4</th>\n",
       "      <td>1598919120000</td>\n",
       "      <td>0.28002</td>\n",
       "      <td>0.28010</td>\n",
       "      <td>0.27915</td>\n",
       "      <td>0.27917</td>\n",
       "      <td>660136.4</td>\n",
       "      <td>1598919299999</td>\n",
       "      <td>184575.997666</td>\n",
       "      <td>368</td>\n",
       "      <td>151908.0</td>\n",
       "      <td>42457.190472</td>\n",
       "      <td>0</td>\n",
       "      <td>1</td>\n",
       "      <td>0</td>\n",
       "    </tr>\n",
       "    <tr>\n",
       "      <th>...</th>\n",
       "      <td>...</td>\n",
       "      <td>...</td>\n",
       "      <td>...</td>\n",
       "      <td>...</td>\n",
       "      <td>...</td>\n",
       "      <td>...</td>\n",
       "      <td>...</td>\n",
       "      <td>...</td>\n",
       "      <td>...</td>\n",
       "      <td>...</td>\n",
       "      <td>...</td>\n",
       "      <td>...</td>\n",
       "      <td>...</td>\n",
       "      <td>...</td>\n",
       "    </tr>\n",
       "    <tr>\n",
       "      <th>628316</th>\n",
       "      <td>1712101680000</td>\n",
       "      <td>0.58560</td>\n",
       "      <td>0.58570</td>\n",
       "      <td>0.58520</td>\n",
       "      <td>0.58560</td>\n",
       "      <td>369252.0</td>\n",
       "      <td>1712101859999</td>\n",
       "      <td>216193.452300</td>\n",
       "      <td>190</td>\n",
       "      <td>208050.0</td>\n",
       "      <td>121814.250400</td>\n",
       "      <td>0</td>\n",
       "      <td>0</td>\n",
       "      <td>1</td>\n",
       "    </tr>\n",
       "    <tr>\n",
       "      <th>628317</th>\n",
       "      <td>1712101860000</td>\n",
       "      <td>0.58560</td>\n",
       "      <td>0.58580</td>\n",
       "      <td>0.58490</td>\n",
       "      <td>0.58530</td>\n",
       "      <td>682771.0</td>\n",
       "      <td>1712102039999</td>\n",
       "      <td>399597.134400</td>\n",
       "      <td>313</td>\n",
       "      <td>300394.0</td>\n",
       "      <td>175844.080500</td>\n",
       "      <td>0</td>\n",
       "      <td>0</td>\n",
       "      <td>1</td>\n",
       "    </tr>\n",
       "    <tr>\n",
       "      <th>628318</th>\n",
       "      <td>1712102040000</td>\n",
       "      <td>0.58520</td>\n",
       "      <td>0.58540</td>\n",
       "      <td>0.58480</td>\n",
       "      <td>0.58490</td>\n",
       "      <td>841719.0</td>\n",
       "      <td>1712102219999</td>\n",
       "      <td>492469.379200</td>\n",
       "      <td>348</td>\n",
       "      <td>398203.0</td>\n",
       "      <td>233014.588600</td>\n",
       "      <td>0</td>\n",
       "      <td>0</td>\n",
       "      <td>1</td>\n",
       "    </tr>\n",
       "    <tr>\n",
       "      <th>628319</th>\n",
       "      <td>1712102220000</td>\n",
       "      <td>0.58490</td>\n",
       "      <td>0.58540</td>\n",
       "      <td>0.58490</td>\n",
       "      <td>0.58540</td>\n",
       "      <td>390562.0</td>\n",
       "      <td>1712102399999</td>\n",
       "      <td>228552.707500</td>\n",
       "      <td>218</td>\n",
       "      <td>256225.0</td>\n",
       "      <td>149933.158600</td>\n",
       "      <td>0</td>\n",
       "      <td>0</td>\n",
       "      <td>1</td>\n",
       "    </tr>\n",
       "    <tr>\n",
       "      <th>628320</th>\n",
       "      <td>1712102400000</td>\n",
       "      <td>0.58540</td>\n",
       "      <td>0.58690</td>\n",
       "      <td>0.58520</td>\n",
       "      <td>0.58690</td>\n",
       "      <td>756933.0</td>\n",
       "      <td>1712102579999</td>\n",
       "      <td>443543.381300</td>\n",
       "      <td>391</td>\n",
       "      <td>384836.0</td>\n",
       "      <td>225480.913700</td>\n",
       "      <td>0</td>\n",
       "      <td>0</td>\n",
       "      <td>1</td>\n",
       "    </tr>\n",
       "  </tbody>\n",
       "</table>\n",
       "<p>628321 rows × 14 columns</p>\n",
       "</div>"
      ],
      "text/plain": [
       "            Open time     Open     High      Low    Close     Volume  \\\n",
       "0       1598918400000  0.28115  0.28139  0.28071  0.28072   380328.3   \n",
       "1       1598918580000  0.28072  0.28090  0.28003  0.28026   624736.7   \n",
       "2       1598918760000  0.28026  0.28027  0.27900  0.27955  1356014.6   \n",
       "3       1598918940000  0.27953  0.28009  0.27906  0.28000   537899.0   \n",
       "4       1598919120000  0.28002  0.28010  0.27915  0.27917   660136.4   \n",
       "...               ...      ...      ...      ...      ...        ...   \n",
       "628316  1712101680000  0.58560  0.58570  0.58520  0.58560   369252.0   \n",
       "628317  1712101860000  0.58560  0.58580  0.58490  0.58530   682771.0   \n",
       "628318  1712102040000  0.58520  0.58540  0.58480  0.58490   841719.0   \n",
       "628319  1712102220000  0.58490  0.58540  0.58490  0.58540   390562.0   \n",
       "628320  1712102400000  0.58540  0.58690  0.58520  0.58690   756933.0   \n",
       "\n",
       "           Close time  Quote asset volume  Number of trades  \\\n",
       "0       1598918579999       106892.301589               273   \n",
       "1       1598918759999       175160.051227               390   \n",
       "2       1598918939999       379265.408111               604   \n",
       "3       1598919119999       150457.534717               334   \n",
       "4       1598919299999       184575.997666               368   \n",
       "...               ...                 ...               ...   \n",
       "628316  1712101859999       216193.452300               190   \n",
       "628317  1712102039999       399597.134400               313   \n",
       "628318  1712102219999       492469.379200               348   \n",
       "628319  1712102399999       228552.707500               218   \n",
       "628320  1712102579999       443543.381300               391   \n",
       "\n",
       "        Taker buy base asset volume  Taker buy quote asset volume  plus_6  \\\n",
       "0                          218211.7                  61330.310857       0   \n",
       "1                          304653.2                  85409.151785       0   \n",
       "2                          423652.9                 118467.894514       0   \n",
       "3                          397486.4                 111204.348733       0   \n",
       "4                          151908.0                  42457.190472       0   \n",
       "...                             ...                           ...     ...   \n",
       "628316                     208050.0                 121814.250400       0   \n",
       "628317                     300394.0                 175844.080500       0   \n",
       "628318                     398203.0                 233014.588600       0   \n",
       "628319                     256225.0                 149933.158600       0   \n",
       "628320                     384836.0                 225480.913700       0   \n",
       "\n",
       "        minus_6  zero_6  \n",
       "0             1       0  \n",
       "1             1       0  \n",
       "2             1       0  \n",
       "3             1       0  \n",
       "4             1       0  \n",
       "...         ...     ...  \n",
       "628316        0       1  \n",
       "628317        0       1  \n",
       "628318        0       1  \n",
       "628319        0       1  \n",
       "628320        0       1  \n",
       "\n",
       "[628321 rows x 14 columns]"
      ]
     },
     "execution_count": 2,
     "metadata": {},
     "output_type": "execute_result"
    }
   ],
   "source": [
    "data = pd.read_csv('Data/df_all.csv')\n",
    "data = data.drop(['Ignore','up_cross','down_cross','minutes','log_minutes','side'], axis=1)\n",
    "data"
   ]
  },
  {
   "cell_type": "code",
   "execution_count": 3,
   "metadata": {},
   "outputs": [],
   "source": [
    "# Convert ISO 8601 date strings to Unix timestamp (milliseconds)\n",
    "def iso_to_unix(iso_str):\n",
    "    dt = datetime.strptime(iso_str, \"%Y-%m-%dT%H:%M:%SZ\").replace(tzinfo=timezone.utc)\n",
    "    return int(dt.timestamp() * 1000)  # Convert to milliseconds\n",
    "\n",
    "def unix_to_iso(unix_timestamp_ms):\n",
    "    # Convert milliseconds to seconds\n",
    "    unix_timestamp_s = unix_timestamp_ms / 1000\n",
    "    # Create a datetime object from the Unix timestamp\n",
    "    dt = datetime.utcfromtimestamp(unix_timestamp_s)\n",
    "    # Format the datetime object as an ISO 8601 date string\n",
    "    iso_str = dt.strftime(\"%Y-%m-%dT%H:%M:%SZ\")\n",
    "    return iso_str"
   ]
  },
  {
   "cell_type": "code",
   "execution_count": 4,
   "metadata": {},
   "outputs": [
    {
     "name": "stdout",
     "output_type": "stream",
     "text": [
      "wrong! 43319\n",
      "1606715820000\n",
      "wrong! 53535\n",
      "1608558300000\n",
      "wrong! 55135\n",
      "1608861420000\n",
      "wrong! 78189\n",
      "1613014740000\n",
      "wrong! 89169\n",
      "1614995820000\n",
      "wrong! 110739\n",
      "1618883820000\n",
      "wrong! 113130\n",
      "1619323200000\n",
      "wrong! 165795\n",
      "1628819820000\n",
      "wrong! 188365\n",
      "1632898620000\n",
      "wrong! 448119\n",
      "1679661540000\n"
     ]
    }
   ],
   "source": [
    "# looking for not continuous points\n",
    "non_continuous_index =[]\n",
    "\n",
    "for i in range(len(data)-1):\n",
    "    if data['Open time'][i+1] - data['Open time'][i] != 3*60*1000:\n",
    "        print('wrong!', i)\n",
    "        print(data['Open time'][i])\n",
    "        non_continuous_index.append(i)"
   ]
  },
  {
   "cell_type": "code",
   "execution_count": 5,
   "metadata": {},
   "outputs": [
    {
     "name": "stdout",
     "output_type": "stream",
     "text": [
      "[43319, 53535, 55135, 78189, 89169, 110739, 113130, 165795, 188365, 448119]\n",
      "10\n"
     ]
    }
   ],
   "source": [
    "print(non_continuous_index)\n",
    "print(len(non_continuous_index))"
   ]
  },
  {
   "cell_type": "code",
   "execution_count": 6,
   "metadata": {},
   "outputs": [],
   "source": [
    "# Initialize an empty list to hold your chunks of data\n",
    "data_chunks = []\n",
    "\n",
    "# Set the start index for the first chunk\n",
    "start_idx = 0\n",
    "\n",
    "# Iterate through the non-continuous indices and split the data into chunks\n",
    "for idx in non_continuous_index:\n",
    "    # Create a chunk from start_idx to the non-continuous index\n",
    "    chunk = data.iloc[start_idx:idx+1]\n",
    "    # Append the chunk to your list of data chunks\n",
    "    data_chunks.append(chunk.reset_index(drop=True))\n",
    "    # Update start_idx for the next chunk\n",
    "    start_idx = idx + 1\n",
    "\n",
    "# Don't forget to grab the last chunk of data after the last non-continuous index\n",
    "final_chunk = data.iloc[start_idx:]\n",
    "data_chunks.append(final_chunk.reset_index(drop=True))\n",
    "\n",
    "# Now data_chunks is a list of DataFrames, each representing a continuous chunk of time\n",
    "# You can access individual chunks with data_chunks[0], data_chunks[1], etc."
   ]
  },
  {
   "cell_type": "code",
   "execution_count": 7,
   "metadata": {},
   "outputs": [],
   "source": [
    "# Define the window sizes for the moving averages\n",
    "windows = [5, 10, 20, 30, 60, 120, 240]\n",
    "# Define the window size and standard deviation multiplier for the Bollinger Bands\n",
    "BB_window_size = 90\n",
    "BB_std_multiplier = 1\n",
    "\n",
    "# Iterate through each chunk in data_chunks\n",
    "for i, chunk in enumerate(data_chunks):\n",
    "    # ADDING MA\n",
    "    for window in windows:\n",
    "        # Calculate the moving average\n",
    "        moving_avg = chunk['Close'].rolling(window).mean()\n",
    "        # Add the moving average as a new column to the chunk\n",
    "        chunk[f'MA{window}'] = moving_avg\n",
    "\n",
    "    # Calculate the moving average and standard deviation\n",
    "    BB_moving_avg = chunk['Close'].rolling(BB_window_size).mean()\n",
    "    BB_std_dev = chunk['Close'].rolling(BB_window_size).std()\n",
    "\n",
    "    # ADDING BB\n",
    "    # Calculate the Bollinger Bands\n",
    "    BB_upper_band = BB_moving_avg + (BB_std_multiplier * BB_std_dev)\n",
    "    BB_lower_band = BB_moving_avg - (BB_std_multiplier * BB_std_dev)\n",
    "\n",
    "    # Add the Bollinger Bands and moving average as new columns to the chunk\n",
    "    chunk[f'MA{BB_window_size}'] = BB_moving_avg\n",
    "    chunk[f'Upper_Band{BB_window_size}'] = BB_upper_band\n",
    "    chunk[f'Lower_Band{BB_window_size}'] = BB_lower_band\n",
    "\n",
    "    # drop NaN values\n",
    "    chunk = chunk.dropna().reset_index(drop=True)\n",
    "    chunk = chunk.drop(columns = ['Open time', 'Close time',], axis=1)\n",
    "    # Optionally, update the chunk in data_chunks (if you want to keep the changes)\n",
    "    data_chunks[i] = chunk\n",
    "\n",
    "# Now each chunk in data_chunks has new columns for the moving averages\n",
    "\n",
    "\n",
    "# # If you prefer to have separate variables for each chunk, you could do something like:\n",
    "# for i, chunk in enumerate(data_chunks):\n",
    "#     globals()[f'data_chunk_{i}'] = chunk"
   ]
  },
  {
   "cell_type": "code",
   "execution_count": 8,
   "metadata": {},
   "outputs": [
    {
     "data": {
      "text/plain": [
       "11"
      ]
     },
     "execution_count": 8,
     "metadata": {},
     "output_type": "execute_result"
    }
   ],
   "source": [
    "len(data_chunks)"
   ]
  },
  {
   "cell_type": "code",
   "execution_count": null,
   "metadata": {},
   "outputs": [],
   "source": [
    "import numpy as np\n",
    "\n",
    "# Initialize empty lists to hold the data\n",
    "matrix_list = []\n",
    "answer_list = []\n",
    "\n",
    "for chunk in data_chunks:\n",
    "    if len(chunk)>=20:\n",
    "        for i in range(len(chunk) - 19):  # Ensure there are 20 rows available\n",
    "            # Create a matrix of 20 rows\n",
    "            matrix = chunk.drop(columns= ['plus_6','minus_6','zero_6'], axis=1).iloc[i:i+20].values\n",
    "            matrix_list.append(matrix)\n",
    "\n",
    "            # Get the up, down, zero values and convert them to a list\n",
    "            answer = chunk.iloc[i+19][['plus_6', 'minus_6', 'zero_6']].tolist()\n",
    "            answer_list.append(answer)\n",
    "\n",
    "# Convert the lists to numpy arrays\n",
    "matrix_array_20 = np.array(matrix_list)\n",
    "answer_array_20 = np.array(answer_list)"
   ]
  },
  {
   "cell_type": "markdown",
   "metadata": {},
   "source": [
    "## to 03-1.py"
   ]
  },
  {
   "cell_type": "markdown",
   "metadata": {},
   "source": [
    "## back to maxtrix_array_20"
   ]
  },
  {
   "cell_type": "code",
   "execution_count": 10,
   "metadata": {},
   "outputs": [],
   "source": [
    "matrix_array_20 = np.load('Data/matrix_array_20.npy')\n",
    "answer_array_20 = np.load('Data/answer_array_20.npy')\n",
    "\n",
    "# List of file names to load\n",
    "# file_names_matrix = [f\"Data/matrix_array_20_{i}.npy\" for i in range(11)]  # Adjust range as needed\n",
    "# # file_names_answer = [f\"Data/answer_array_20_{i}.npy\" for i in range(11)]\n",
    "\n",
    "# # Load each file and store in a list\n",
    "# loaded_arrays_matrix = [np.load(file_name) for file_name in file_names_matrix]\n",
    "# # loaded_arrays_answer = [np.load(file_name) for file_name in file_names_answer]\n",
    "\n",
    "# # Concatenate all arrays into a single array\n",
    "# matrix_array_20 = np.concatenate(loaded_arrays_matrix, axis=0)\n",
    "# # answer_array_20 = np.concatenate(loaded_arrays_answer, axis=0)"
   ]
  },
  {
   "cell_type": "code",
   "execution_count": 11,
   "metadata": {},
   "outputs": [
    {
     "data": {
      "text/plain": [
       "(625483, 20, 19)"
      ]
     },
     "execution_count": 11,
     "metadata": {},
     "output_type": "execute_result"
    }
   ],
   "source": [
    "# matrix_array_20.shape, answer_array_20.shape\n",
    "matrix_array_20.shape"
   ]
  },
  {
   "cell_type": "markdown",
   "metadata": {},
   "source": [
    "## back to maxtrix_array_40"
   ]
  },
  {
   "cell_type": "code",
   "execution_count": 12,
   "metadata": {},
   "outputs": [],
   "source": [
    "matrix_array_40 = np.load('Data/matrix_array_40.npy')\n",
    "answer_array_40 = np.load('Data/answer_array_40.npy')\n",
    "\n",
    "# List of file names to load\n",
    "# file_names_matrix = [f\"Data/matrix_array_40_{i}.npy\" for i in range(11)]  # Adjust range as needed\n",
    "# file_names_answer = [f\"Data/answer_array_40_{i}.npy\" for i in range(11)]\n",
    "\n",
    "# # Load each file and store in a list\n",
    "# loaded_arrays_matrix = [np.load(file_name) for file_name in file_names_matrix]\n",
    "# loaded_arrays_answer = [np.load(file_name) for file_name in file_names_answer]\n",
    "\n",
    "# # Concatenate all arrays into a single array\n",
    "# matrix_array_40 = np.concatenate(loaded_arrays_matrix, axis=0)\n",
    "# answer_array_40 = np.concatenate(loaded_arrays_answer, axis=0)\n",
    "\n",
    "# np.save('Data/matrix_array_40.npy', matrix_array_40)\n",
    "# np.save('Data/answer_array_40.npy', answer_array_40)"
   ]
  },
  {
   "cell_type": "code",
   "execution_count": 13,
   "metadata": {},
   "outputs": [
    {
     "data": {
      "text/plain": [
       "((625263, 40, 19), (625263, 3))"
      ]
     },
     "execution_count": 13,
     "metadata": {},
     "output_type": "execute_result"
    }
   ],
   "source": [
    "matrix_array_40.shape, answer_array_40.shape"
   ]
  },
  {
   "cell_type": "markdown",
   "metadata": {},
   "source": [
    "## back to maxtrix_array_60"
   ]
  },
  {
   "cell_type": "code",
   "execution_count": 14,
   "metadata": {},
   "outputs": [],
   "source": [
    "matrix_array_60 = np.load('Data/matrix_array_60.npy')\n",
    "answer_array_60 = np.load('Data/answer_array_60.npy')"
   ]
  },
  {
   "cell_type": "code",
   "execution_count": 15,
   "metadata": {},
   "outputs": [
    {
     "data": {
      "text/plain": [
       "((625043, 60, 19), (625043, 3))"
      ]
     },
     "execution_count": 15,
     "metadata": {},
     "output_type": "execute_result"
    }
   ],
   "source": [
    "matrix_array_60.shape, answer_array_60.shape"
   ]
  },
  {
   "cell_type": "markdown",
   "metadata": {},
   "source": [
    "## back to maxtrix_array_80"
   ]
  },
  {
   "cell_type": "code",
   "execution_count": 16,
   "metadata": {},
   "outputs": [],
   "source": [
    "matrix_array_80 = np.load('Data/matrix_array_80.npy')\n",
    "answer_array_80 = np.load('Data/answer_array_80.npy')"
   ]
  },
  {
   "cell_type": "code",
   "execution_count": 17,
   "metadata": {},
   "outputs": [
    {
     "data": {
      "text/plain": [
       "((624823, 80, 19), (624823, 3))"
      ]
     },
     "execution_count": 17,
     "metadata": {},
     "output_type": "execute_result"
    }
   ],
   "source": [
    "matrix_array_80.shape, answer_array_80.shape"
   ]
  },
  {
   "cell_type": "code",
   "execution_count": null,
   "metadata": {},
   "outputs": [],
   "source": []
  }
 ],
 "metadata": {
  "kernelspec": {
   "display_name": "binance",
   "language": "python",
   "name": "python3"
  },
  "language_info": {
   "codemirror_mode": {
    "name": "ipython",
    "version": 3
   },
   "file_extension": ".py",
   "mimetype": "text/x-python",
   "name": "python",
   "nbconvert_exporter": "python",
   "pygments_lexer": "ipython3",
   "version": "3.12.2"
  }
 },
 "nbformat": 4,
 "nbformat_minor": 2
}
