{
 "cells": [
  {
   "cell_type": "markdown",
   "metadata": {},
   "source": [
    "# Imports"
   ]
  },
  {
   "cell_type": "code",
   "execution_count": 2,
   "metadata": {},
   "outputs": [],
   "source": [
    "# imports\n",
    "import pandas as pd\n",
    "import numpy as np\n",
    "\n",
    "import matplotlib.pyplot as plt\n",
    "import seaborn as sns\n",
    "\n",
    "from sklearn.model_selection import train_test_split\n",
    "\n",
    "import gc, joblib\n",
    "\n",
    "from sklearn.ensemble import RandomForestClassifier\n",
    "from sklearn.metrics import accuracy_score, classification_report, confusion_matrix"
   ]
  },
  {
   "cell_type": "markdown",
   "metadata": {},
   "source": [
    "## import data"
   ]
  },
  {
   "cell_type": "code",
   "execution_count": 3,
   "metadata": {},
   "outputs": [],
   "source": [
    "def import_data(seq_length):\n",
    "    matrix_array = np.load(f'Data/matrix_array_{seq_length}_normalized.npy')\n",
    "    answer_array = np.load(f'Data/answer_array_{seq_length}.npy')\n",
    "\n",
    "    X = matrix_array\n",
    "    y = answer_array\n",
    "\n",
    "    X_train, X_test, y_train, y_test = train_test_split(X,y, test_size=0.1, random_state=1, stratify=y)\n",
    "\n",
    "    X_test_flattened = np.array([x.flatten() for x in X_test])\n",
    "\n",
    "    y_test_transformed = np.array([1 if np.argmax(y) == 0 else (0 if np.argmax(y) == 2 else -1) for y in y_test])\n",
    "    # answer = chunk.iloc[i+19][['plus_6', 'minus_6', 'zero_6']].tolist()\n",
    "    # zero = 0, up = 1, down = -1\n",
    "    y_test_transformed012 = np.array([1 if np.argmax(y) == 0 else (0 if np.argmax(y) == 2 else 2) for y in y_test])\n",
    "    # 1 = up , 2 = down, 0 = zero\n",
    "\n",
    "    del X, y, X_train, X_test, y_train, y_test, matrix_array, answer_array\n",
    "    gc.collect()\n",
    "\n",
    "    return X_test_flattened, y_test_transformed, y_test_transformed012\n"
   ]
  },
  {
   "cell_type": "markdown",
   "metadata": {},
   "source": [
    "## test models"
   ]
  },
  {
   "cell_type": "code",
   "execution_count": 4,
   "metadata": {},
   "outputs": [],
   "source": [
    "def test_model(model_name, seq_length):\n",
    "    X_test_flattened, y_test_transformed, y_test_transformed012 = import_data(seq_length)\n",
    "    print(f'import {seq_length} Data Done')\n",
    "\n",
    "    if model_name == 'XGB':\n",
    "        y_test_transformed = y_test_transformed012\n",
    "        \n",
    "    model = joblib.load(f'Models/{model_name}_model_{seq_length}.pkl')\n",
    "    print(f'import {model_name} model Done')\n",
    "\n",
    "    y_pred = model.predict(X_test_flattened)\n",
    "    print('prediction Done')\n",
    "\n",
    "    print(np.unique(y_pred))\n",
    "\n",
    "    # Calculate accuracy\n",
    "    accuracy = accuracy_score(y_test_transformed, y_pred)\n",
    "    print(f\"Accuracy: {accuracy}\")\n",
    "\n",
    "    # Print classification report\n",
    "    report = classification_report(y_test_transformed, y_pred)\n",
    "    print(\"Classification Report:\")\n",
    "    print(report)\n",
    "\n",
    "    # Calculate the confusion matrix\n",
    "    cm = confusion_matrix(y_test_transformed, y_pred)\n",
    "    cm_normalized = cm.astype('float') / cm.sum(axis=1)[:, np.newaxis]\n",
    "\n",
    "    # Plot the normalized confusion matrix\n",
    "    sns.heatmap(cm_normalized, annot=True, fmt='.2%', cmap='Blues')\n",
    "    plt.title(f'{model_name}_{seq_length} Confusion Matrix')\n",
    "    plt.xlabel('Predicted Label')\n",
    "    plt.ylabel('True Label')\n",
    "    plt.savefig(f'Figures/{model_name}_{seq_length}_Counfusion_Matrix.png')\n",
    "    plt.show()\n",
    "\n",
    "    # accuracy?\n",
    "    wrong_count = cm[0][1]+cm[0][2] + cm[1][0]+cm[1][2] + cm[2][0]+cm[2][1]\n",
    "    correct_count = cm[0][0] + cm[1][1] + cm[2][2]\n",
    "\n",
    "    print(f'wrong count : {wrong_count}, correct count : {correct_count}')\n",
    "    print(f'accuracy? : {100*correct_count/(wrong_count+correct_count)}') \n",
    "    '''\n",
    "    data = pd.read_csv('Data/df_all.csv')\n",
    "    data = data.drop(['Open time', 'Close time', 'Ignore','up_cross','down_cross','minutes','log_minutes','side','plus_6','minus_6','zero_6'], axis=1)\n",
    "    print(data.columns)\n",
    "\n",
    "    # Rename columns\n",
    "    new_columns = []\n",
    "    for i in range(seq_length):  # for each time step\n",
    "        new_columns.extend([f\"{col}_{i}\" for col in ['Open', 'High', 'Low', 'Close', 'Volume', 'Quote asset volume', 'Number of trades', 'Taker buy base asset volume', 'Taker buy quote asset volume','MA5','MA10','MA20','MA30','MA60','MA120','MA240', 'BB0','BB+','BB-' ]])\n",
    "\n",
    "    # Get feature importances\n",
    "    importances = model.feature_importances_\n",
    "    # Convert to a DataFrame\n",
    "    feature_importance_df = pd.DataFrame({'Feature': new_columns, 'Importance': importances})\n",
    "\n",
    "    # Sort by importance\n",
    "    feature_importance_df = feature_importance_df.sort_values(by='Importance', ascending=False)\n",
    "\n",
    "    # Plot feature importances\n",
    "    feature_importance_df.plot(kind='bar', x='Feature', y='Importance')\n",
    "    plt.title('Feature Importances')\n",
    "    plt.ylabel('Importance')\n",
    "    plt.show()\n",
    "\n",
    "    # Display the top N features in a bar chart\n",
    "    top_n = 20  # You can adjust this number\n",
    "    top_features = feature_importance_df.head(top_n)\n",
    "    top_features.plot(kind='bar', x='Feature', y='Importance', figsize=(10, 6))\n",
    "    plt.title('Top Feature Importances')\n",
    "    plt.ylabel('Importance')\n",
    "    plt.show()\n",
    "\n",
    "    # Print the sorted list of features and their importances\n",
    "    print(\"Sorted Feature Importances:\")\n",
    "    print(feature_importance_df.to_string(index=False))\n",
    "\n",
    "    # Assuming importances and new_columns are defined\n",
    "    feature_importance_df = pd.DataFrame({'Feature': new_columns, 'Importance': importances})\n",
    "\n",
    "    # Split the feature names and aggregate importances\n",
    "    feature_importance_df['BaseFeature'] = feature_importance_df['Feature'].apply(lambda x: x.split('_')[0])\n",
    "    aggregated_importances = feature_importance_df.groupby('BaseFeature')['Importance'].sum()\n",
    "\n",
    "    # Sort by importance\n",
    "    aggregated_importances = aggregated_importances.sort_values(ascending=False)\n",
    "\n",
    "    # Plot aggregated feature importances\n",
    "    aggregated_importances.head(20).plot(kind='bar', figsize=(10, 6))\n",
    "    plt.title('Aggregated Feature Importances')\n",
    "    plt.ylabel('Importance')\n",
    "    plt.show()\n",
    "\n",
    "    # Print the sorted list of aggregated features and their importances\n",
    "    print(\"Sorted Aggregated Feature Importances:\")\n",
    "    print(aggregated_importances.to_string())\n",
    "    '''"
   ]
  },
  {
   "cell_type": "markdown",
   "metadata": {},
   "source": [
    "## predictions"
   ]
  },
  {
   "cell_type": "code",
   "execution_count": 5,
   "metadata": {},
   "outputs": [
    {
     "name": "stdout",
     "output_type": "stream",
     "text": [
      "import 20 Data Done\n",
      "import RFC model Done\n"
     ]
    },
    {
     "name": "stderr",
     "output_type": "stream",
     "text": [
      "[Parallel(n_jobs=28)]: Using backend ThreadingBackend with 28 concurrent workers.\n"
     ]
    },
    {
     "name": "stdout",
     "output_type": "stream",
     "text": [
      "prediction Done\n",
      "[-1  0  1]\n",
      "Accuracy: 0.6751027194679371\n",
      "Classification Report:\n",
      "              precision    recall  f1-score   support\n",
      "\n",
      "          -1       0.62      0.41      0.49     15546\n",
      "           0       0.70      0.92      0.80     32835\n",
      "           1       0.63      0.38      0.48     14168\n",
      "\n",
      "    accuracy                           0.68     62549\n",
      "   macro avg       0.65      0.57      0.59     62549\n",
      "weighted avg       0.66      0.68      0.65     62549\n",
      "\n"
     ]
    },
    {
     "name": "stderr",
     "output_type": "stream",
     "text": [
      "[Parallel(n_jobs=28)]: Done 100 out of 100 | elapsed:    0.2s finished\n"
     ]
    },
    {
     "data": {
      "image/png": "[encoded data removed]",
      "text/plain": [
       "<Figure size 640x480 with 2 Axes>"
      ]
     },
     "metadata": {},
     "output_type": "display_data"
    },
    {
     "name": "stdout",
     "output_type": "stream",
     "text": [
      "wrong count : 20322, correct count : 42227\n",
      "accuracy? : 67.51027194679371\n"
     ]
    }
   ],
   "source": [
    "seq_lengths = [20,40,60,80]\n",
    "models = [\n",
    "    'RFC', \n",
    "    'XGB',\n",
    "    ]\n",
    "\n",
    "for seq_length in seq_lengths:\n",
    "    for model_name in models:\n",
    "        test_model(model_name, seq_length)"
   ]
  },
  {
   "cell_type": "code",
   "execution_count": null,
   "metadata": {},
   "outputs": [],
   "source": []
  }
 ],
 "metadata": {
  "kernelspec": {
   "display_name": "binance",
   "language": "python",
   "name": "python3"
  },
  "language_info": {
   "codemirror_mode": {
    "name": "ipython",
    "version": 3
   },
   "file_extension": ".py",
   "mimetype": "text/x-python",
   "name": "python",
   "nbconvert_exporter": "python",
   "pygments_lexer": "ipython3",
   "version": "3.12.2"
  }
 },
 "nbformat": 4,
 "nbformat_minor": 2
}
