{
 "cells": [
  {
   "cell_type": "markdown",
   "metadata": {},
   "source": [
    "## Imports"
   ]
  },
  {
   "cell_type": "code",
   "execution_count": 2,
   "metadata": {},
   "outputs": [],
   "source": [
    "# imports\n",
    "import numpy as np\n",
    "import pandas as pd\n",
    "\n",
    "import matplotlib.pyplot as plt\n",
    "import seaborn as sns\n",
    "\n",
    "from datetime import datetime, timezone"
   ]
  },
  {
   "cell_type": "markdown",
   "metadata": {},
   "source": [
    "## Data Preprocessing"
   ]
  },
  {
   "cell_type": "code",
   "execution_count": 3,
   "metadata": {},
   "outputs": [
    {
     "data": {
      "text/html": [
       "<div>\n",
       "<style scoped>\n",
       "    .dataframe tbody tr th:only-of-type {\n",
       "        vertical-align: middle;\n",
       "    }\n",
       "\n",
       "    .dataframe tbody tr th {\n",
       "        vertical-align: top;\n",
       "    }\n",
       "\n",
       "    .dataframe thead th {\n",
       "        text-align: right;\n",
       "    }\n",
       "</style>\n",
       "<table border=\"1\" class=\"dataframe\">\n",
       "  <thead>\n",
       "    <tr style=\"text-align: right;\">\n",
       "      <th></th>\n",
       "      <th>Open time</th>\n",
       "      <th>Open</th>\n",
       "      <th>High</th>\n",
       "      <th>Low</th>\n",
       "      <th>Close</th>\n",
       "      <th>Volume</th>\n",
       "      <th>Close time</th>\n",
       "      <th>Quote asset volume</th>\n",
       "      <th>Number of trades</th>\n",
       "      <th>Taker buy base asset volume</th>\n",
       "      <th>Taker buy quote asset volume</th>\n",
       "      <th>plus_6</th>\n",
       "      <th>minus_6</th>\n",
       "      <th>zero_6</th>\n",
       "    </tr>\n",
       "  </thead>\n",
       "  <tbody>\n",
       "    <tr>\n",
       "      <th>0</th>\n",
       "      <td>1598918400000</td>\n",
       "      <td>0.003206</td>\n",
       "      <td>0.003213</td>\n",
       "      <td>0.003205</td>\n",
       "      <td>0.003212</td>\n",
       "      <td>1737970.0</td>\n",
       "      <td>1598918579999</td>\n",
       "      <td>5580.807473</td>\n",
       "      <td>23</td>\n",
       "      <td>878471.0</td>\n",
       "      <td>2820.579582</td>\n",
       "      <td>0</td>\n",
       "      <td>1</td>\n",
       "      <td>0</td>\n",
       "    </tr>\n",
       "    <tr>\n",
       "      <th>1</th>\n",
       "      <td>1598918580000</td>\n",
       "      <td>0.003207</td>\n",
       "      <td>0.003207</td>\n",
       "      <td>0.003200</td>\n",
       "      <td>0.003201</td>\n",
       "      <td>1124509.0</td>\n",
       "      <td>1598918759999</td>\n",
       "      <td>3601.947301</td>\n",
       "      <td>23</td>\n",
       "      <td>507289.0</td>\n",
       "      <td>1625.205843</td>\n",
       "      <td>0</td>\n",
       "      <td>1</td>\n",
       "      <td>0</td>\n",
       "    </tr>\n",
       "    <tr>\n",
       "      <th>2</th>\n",
       "      <td>1598918760000</td>\n",
       "      <td>0.003200</td>\n",
       "      <td>0.003201</td>\n",
       "      <td>0.003190</td>\n",
       "      <td>0.003197</td>\n",
       "      <td>4517437.0</td>\n",
       "      <td>1598918939999</td>\n",
       "      <td>14440.856434</td>\n",
       "      <td>82</td>\n",
       "      <td>1194056.0</td>\n",
       "      <td>3818.394074</td>\n",
       "      <td>0</td>\n",
       "      <td>1</td>\n",
       "      <td>0</td>\n",
       "    </tr>\n",
       "    <tr>\n",
       "      <th>3</th>\n",
       "      <td>1598918940000</td>\n",
       "      <td>0.003199</td>\n",
       "      <td>0.003199</td>\n",
       "      <td>0.003190</td>\n",
       "      <td>0.003199</td>\n",
       "      <td>1799867.0</td>\n",
       "      <td>1598919119999</td>\n",
       "      <td>5752.475020</td>\n",
       "      <td>38</td>\n",
       "      <td>830740.0</td>\n",
       "      <td>2655.099639</td>\n",
       "      <td>0</td>\n",
       "      <td>1</td>\n",
       "      <td>0</td>\n",
       "    </tr>\n",
       "    <tr>\n",
       "      <th>4</th>\n",
       "      <td>1598919120000</td>\n",
       "      <td>0.003195</td>\n",
       "      <td>0.003195</td>\n",
       "      <td>0.003194</td>\n",
       "      <td>0.003194</td>\n",
       "      <td>174555.0</td>\n",
       "      <td>1598919299999</td>\n",
       "      <td>557.627329</td>\n",
       "      <td>4</td>\n",
       "      <td>0.0</td>\n",
       "      <td>0.000000</td>\n",
       "      <td>0</td>\n",
       "      <td>1</td>\n",
       "      <td>0</td>\n",
       "    </tr>\n",
       "    <tr>\n",
       "      <th>...</th>\n",
       "      <td>...</td>\n",
       "      <td>...</td>\n",
       "      <td>...</td>\n",
       "      <td>...</td>\n",
       "      <td>...</td>\n",
       "      <td>...</td>\n",
       "      <td>...</td>\n",
       "      <td>...</td>\n",
       "      <td>...</td>\n",
       "      <td>...</td>\n",
       "      <td>...</td>\n",
       "      <td>...</td>\n",
       "      <td>...</td>\n",
       "      <td>...</td>\n",
       "    </tr>\n",
       "    <tr>\n",
       "      <th>583676</th>\n",
       "      <td>1704066480000</td>\n",
       "      <td>0.089340</td>\n",
       "      <td>0.089510</td>\n",
       "      <td>0.089340</td>\n",
       "      <td>0.089460</td>\n",
       "      <td>5121411.0</td>\n",
       "      <td>1704066659999</td>\n",
       "      <td>458109.322890</td>\n",
       "      <td>521</td>\n",
       "      <td>2550835.0</td>\n",
       "      <td>228116.020890</td>\n",
       "      <td>0</td>\n",
       "      <td>0</td>\n",
       "      <td>1</td>\n",
       "    </tr>\n",
       "    <tr>\n",
       "      <th>583677</th>\n",
       "      <td>1704066660000</td>\n",
       "      <td>0.089450</td>\n",
       "      <td>0.089480</td>\n",
       "      <td>0.089400</td>\n",
       "      <td>0.089440</td>\n",
       "      <td>903496.0</td>\n",
       "      <td>1704066839999</td>\n",
       "      <td>80803.426110</td>\n",
       "      <td>128</td>\n",
       "      <td>483316.0</td>\n",
       "      <td>43226.492480</td>\n",
       "      <td>0</td>\n",
       "      <td>0</td>\n",
       "      <td>1</td>\n",
       "    </tr>\n",
       "    <tr>\n",
       "      <th>583678</th>\n",
       "      <td>1704066840000</td>\n",
       "      <td>0.089450</td>\n",
       "      <td>0.089540</td>\n",
       "      <td>0.089420</td>\n",
       "      <td>0.089530</td>\n",
       "      <td>639110.0</td>\n",
       "      <td>1704067019999</td>\n",
       "      <td>57179.473120</td>\n",
       "      <td>159</td>\n",
       "      <td>464231.0</td>\n",
       "      <td>41531.905370</td>\n",
       "      <td>0</td>\n",
       "      <td>0</td>\n",
       "      <td>1</td>\n",
       "    </tr>\n",
       "    <tr>\n",
       "      <th>583679</th>\n",
       "      <td>1704067020000</td>\n",
       "      <td>0.089530</td>\n",
       "      <td>0.089570</td>\n",
       "      <td>0.089530</td>\n",
       "      <td>0.089550</td>\n",
       "      <td>563692.0</td>\n",
       "      <td>1704067199999</td>\n",
       "      <td>50484.383450</td>\n",
       "      <td>137</td>\n",
       "      <td>236351.0</td>\n",
       "      <td>21167.129060</td>\n",
       "      <td>0</td>\n",
       "      <td>0</td>\n",
       "      <td>1</td>\n",
       "    </tr>\n",
       "    <tr>\n",
       "      <th>583680</th>\n",
       "      <td>1704067200000</td>\n",
       "      <td>0.089560</td>\n",
       "      <td>0.089640</td>\n",
       "      <td>0.089510</td>\n",
       "      <td>0.089610</td>\n",
       "      <td>1169777.0</td>\n",
       "      <td>1704067379999</td>\n",
       "      <td>104802.223830</td>\n",
       "      <td>299</td>\n",
       "      <td>804988.0</td>\n",
       "      <td>72117.650450</td>\n",
       "      <td>0</td>\n",
       "      <td>0</td>\n",
       "      <td>1</td>\n",
       "    </tr>\n",
       "  </tbody>\n",
       "</table>\n",
       "<p>583681 rows × 14 columns</p>\n",
       "</div>"
      ],
      "text/plain": [
       "            Open time      Open      High       Low     Close     Volume  \\\n",
       "0       1598918400000  0.003206  0.003213  0.003205  0.003212  1737970.0   \n",
       "1       1598918580000  0.003207  0.003207  0.003200  0.003201  1124509.0   \n",
       "2       1598918760000  0.003200  0.003201  0.003190  0.003197  4517437.0   \n",
       "3       1598918940000  0.003199  0.003199  0.003190  0.003199  1799867.0   \n",
       "4       1598919120000  0.003195  0.003195  0.003194  0.003194   174555.0   \n",
       "...               ...       ...       ...       ...       ...        ...   \n",
       "583676  1704066480000  0.089340  0.089510  0.089340  0.089460  5121411.0   \n",
       "583677  1704066660000  0.089450  0.089480  0.089400  0.089440   903496.0   \n",
       "583678  1704066840000  0.089450  0.089540  0.089420  0.089530   639110.0   \n",
       "583679  1704067020000  0.089530  0.089570  0.089530  0.089550   563692.0   \n",
       "583680  1704067200000  0.089560  0.089640  0.089510  0.089610  1169777.0   \n",
       "\n",
       "           Close time  Quote asset volume  Number of trades  \\\n",
       "0       1598918579999         5580.807473                23   \n",
       "1       1598918759999         3601.947301                23   \n",
       "2       1598918939999        14440.856434                82   \n",
       "3       1598919119999         5752.475020                38   \n",
       "4       1598919299999          557.627329                 4   \n",
       "...               ...                 ...               ...   \n",
       "583676  1704066659999       458109.322890               521   \n",
       "583677  1704066839999        80803.426110               128   \n",
       "583678  1704067019999        57179.473120               159   \n",
       "583679  1704067199999        50484.383450               137   \n",
       "583680  1704067379999       104802.223830               299   \n",
       "\n",
       "        Taker buy base asset volume  Taker buy quote asset volume  plus_6  \\\n",
       "0                          878471.0                   2820.579582       0   \n",
       "1                          507289.0                   1625.205843       0   \n",
       "2                         1194056.0                   3818.394074       0   \n",
       "3                          830740.0                   2655.099639       0   \n",
       "4                               0.0                      0.000000       0   \n",
       "...                             ...                           ...     ...   \n",
       "583676                    2550835.0                 228116.020890       0   \n",
       "583677                     483316.0                  43226.492480       0   \n",
       "583678                     464231.0                  41531.905370       0   \n",
       "583679                     236351.0                  21167.129060       0   \n",
       "583680                     804988.0                  72117.650450       0   \n",
       "\n",
       "        minus_6  zero_6  \n",
       "0             1       0  \n",
       "1             1       0  \n",
       "2             1       0  \n",
       "3             1       0  \n",
       "4             1       0  \n",
       "...         ...     ...  \n",
       "583676        0       1  \n",
       "583677        0       1  \n",
       "583678        0       1  \n",
       "583679        0       1  \n",
       "583680        0       1  \n",
       "\n",
       "[583681 rows x 14 columns]"
      ]
     },
     "execution_count": 3,
     "metadata": {},
     "output_type": "execute_result"
    }
   ],
   "source": [
    "data = pd.read_csv('Data/df_all.csv')\n",
    "data = data.drop(['Ignore','up_cross','down_cross','minutes','log_minutes','side'], axis=1)\n",
    "data"
   ]
  },
  {
   "cell_type": "code",
   "execution_count": 4,
   "metadata": {},
   "outputs": [],
   "source": [
    "# Convert ISO 8601 date strings to Unix timestamp (milliseconds)\n",
    "def iso_to_unix(iso_str):\n",
    "    dt = datetime.strptime(iso_str, \"%Y-%m-%dT%H:%M:%SZ\").replace(tzinfo=timezone.utc)\n",
    "    return int(dt.timestamp() * 1000)  # Convert to milliseconds\n",
    "\n",
    "def unix_to_iso(unix_timestamp_ms):\n",
    "    # Convert milliseconds to seconds\n",
    "    unix_timestamp_s = unix_timestamp_ms / 1000\n",
    "    # Create a datetime object from the Unix timestamp\n",
    "    dt = datetime.utcfromtimestamp(unix_timestamp_s)\n",
    "    # Format the datetime object as an ISO 8601 date string\n",
    "    iso_str = dt.strftime(\"%Y-%m-%dT%H:%M:%SZ\")\n",
    "    return iso_str"
   ]
  },
  {
   "cell_type": "code",
   "execution_count": 5,
   "metadata": {},
   "outputs": [
    {
     "name": "stdout",
     "output_type": "stream",
     "text": [
      "wrong! 43319\n",
      "1606715820000\n",
      "wrong! 53535\n",
      "1608558300000\n",
      "wrong! 55135\n",
      "1608861420000\n",
      "wrong! 78189\n",
      "1613014740000\n",
      "wrong! 89169\n",
      "1614995820000\n",
      "wrong! 110739\n",
      "1618883820000\n",
      "wrong! 113130\n",
      "1619323200000\n",
      "wrong! 165795\n",
      "1628819820000\n",
      "wrong! 188365\n",
      "1632898620000\n",
      "wrong! 448119\n",
      "1679661540000\n"
     ]
    }
   ],
   "source": [
    "# looking for not continuous points\n",
    "non_continuous_index =[]\n",
    "\n",
    "for i in range(len(data)-1):\n",
    "    if data['Open time'][i+1] - data['Open time'][i] != 3*60*1000:\n",
    "        print('wrong!', i)\n",
    "        print(data['Open time'][i])\n",
    "        non_continuous_index.append(i)"
   ]
  },
  {
   "cell_type": "code",
   "execution_count": 6,
   "metadata": {},
   "outputs": [
    {
     "name": "stdout",
     "output_type": "stream",
     "text": [
      "[43319, 53535, 55135, 78189, 89169, 110739, 113130, 165795, 188365, 448119]\n",
      "10\n"
     ]
    }
   ],
   "source": [
    "print(non_continuous_index)\n",
    "print(len(non_continuous_index))"
   ]
  },
  {
   "cell_type": "code",
   "execution_count": 7,
   "metadata": {},
   "outputs": [],
   "source": [
    "# Initialize an empty list to hold your chunks of data\n",
    "data_chunks = []\n",
    "\n",
    "# Set the start index for the first chunk\n",
    "start_idx = 0\n",
    "\n",
    "# Iterate through the non-continuous indices and split the data into chunks\n",
    "for idx in non_continuous_index:\n",
    "    # Create a chunk from start_idx to the non-continuous index\n",
    "    chunk = data.iloc[start_idx:idx+1]\n",
    "    # Append the chunk to your list of data chunks\n",
    "    data_chunks.append(chunk.reset_index(drop=True))\n",
    "    # Update start_idx for the next chunk\n",
    "    start_idx = idx + 1\n",
    "\n",
    "# Don't forget to grab the last chunk of data after the last non-continuous index\n",
    "final_chunk = data.iloc[start_idx:]\n",
    "data_chunks.append(final_chunk.reset_index(drop=True))\n",
    "\n",
    "# Now data_chunks is a list of DataFrames, each representing a continuous chunk of time\n",
    "# You can access individual chunks with data_chunks[0], data_chunks[1], etc."
   ]
  },
  {
   "cell_type": "code",
   "execution_count": 8,
   "metadata": {},
   "outputs": [],
   "source": [
    "# Define the window sizes for the moving averages\n",
    "windows = [5, 10, 20, 30, 60, 120, 240]\n",
    "# Define the window size and standard deviation multiplier for the Bollinger Bands\n",
    "BB_window_size = 90\n",
    "BB_std_multiplier = 1\n",
    "\n",
    "# Iterate through each chunk in data_chunks\n",
    "for i, chunk in enumerate(data_chunks):\n",
    "    # ADDING MA\n",
    "    for window in windows:\n",
    "        # Calculate the moving average\n",
    "        moving_avg = chunk['Close'].rolling(window).mean()\n",
    "        # Add the moving average as a new column to the chunk\n",
    "        chunk[f'MA{window}'] = moving_avg\n",
    "\n",
    "    # Calculate the moving average and standard deviation\n",
    "    BB_moving_avg = chunk['Close'].rolling(BB_window_size).mean()\n",
    "    BB_std_dev = chunk['Close'].rolling(BB_window_size).std()\n",
    "\n",
    "    # ADDING BB\n",
    "    # Calculate the Bollinger Bands\n",
    "    BB_upper_band = BB_moving_avg + (BB_std_multiplier * BB_std_dev)\n",
    "    BB_lower_band = BB_moving_avg - (BB_std_multiplier * BB_std_dev)\n",
    "\n",
    "    # Add the Bollinger Bands and moving average as new columns to the chunk\n",
    "    chunk[f'MA{BB_window_size}'] = BB_moving_avg\n",
    "    chunk[f'Upper_Band{BB_window_size}'] = BB_upper_band\n",
    "    chunk[f'Lower_Band{BB_window_size}'] = BB_lower_band\n",
    "\n",
    "    # drop NaN values\n",
    "    chunk = chunk.dropna().reset_index(drop=True)\n",
    "    chunk = chunk.drop(columns = ['Open time', 'Close time',], axis=1)\n",
    "    # Optionally, update the chunk in data_chunks (if you want to keep the changes)\n",
    "    data_chunks[i] = chunk\n",
    "\n",
    "# Now each chunk in data_chunks has new columns for the moving averages\n",
    "\n",
    "\n",
    "# # If you prefer to have separate variables for each chunk, you could do something like:\n",
    "# for i, chunk in enumerate(data_chunks):\n",
    "#     globals()[f'data_chunk_{i}'] = chunk"
   ]
  },
  {
   "cell_type": "code",
   "execution_count": 9,
   "metadata": {},
   "outputs": [
    {
     "data": {
      "text/plain": [
       "11"
      ]
     },
     "execution_count": 9,
     "metadata": {},
     "output_type": "execute_result"
    }
   ],
   "source": [
    "len(data_chunks)"
   ]
  },
  {
   "cell_type": "code",
   "execution_count": null,
   "metadata": {},
   "outputs": [],
   "source": [
    "import numpy as np\n",
    "\n",
    "# Initialize empty lists to hold the data\n",
    "matrix_list = []\n",
    "answer_list = []\n",
    "\n",
    "for chunk in data_chunks:\n",
    "    if len(chunk)>=20:\n",
    "        for i in range(len(chunk) - 19):  # Ensure there are 20 rows available\n",
    "            # Create a matrix of 20 rows\n",
    "            matrix = chunk.drop(columns= ['plus_6','minus_6','zero_6'], axis=1).iloc[i:i+20].values\n",
    "            matrix_list.append(matrix)\n",
    "\n",
    "            # Get the up, down, zero values and convert them to a list\n",
    "            answer = chunk.iloc[i+19][['plus_6', 'minus_6', 'zero_6']].tolist()\n",
    "            answer_list.append(answer)\n",
    "\n",
    "# Convert the lists to numpy arrays\n",
    "matrix_array_20 = np.array(matrix_list)\n",
    "answer_array_20 = np.array(answer_list)"
   ]
  },
  {
   "cell_type": "markdown",
   "metadata": {},
   "source": [
    "## to 03-1.py"
   ]
  },
  {
   "cell_type": "markdown",
   "metadata": {},
   "source": [
    "## back to maxtrix_array_20"
   ]
  },
  {
   "cell_type": "code",
   "execution_count": 17,
   "metadata": {},
   "outputs": [],
   "source": [
    "matrix_array_20 = np.load('Data/matrix_array_20.npy')\n",
    "answer_array_20 = np.load('Data/answer_array_20.npy')\n",
    "\n",
    "# List of file names to load\n",
    "# file_names_matrix = [f\"Data/matrix_array_20_{i}.npy\" for i in range(11)]  # Adjust range as needed\n",
    "# # file_names_answer = [f\"Data/answer_array_20_{i}.npy\" for i in range(11)]\n",
    "\n",
    "# # Load each file and store in a list\n",
    "# loaded_arrays_matrix = [np.load(file_name) for file_name in file_names_matrix]\n",
    "# # loaded_arrays_answer = [np.load(file_name) for file_name in file_names_answer]\n",
    "\n",
    "# # Concatenate all arrays into a single array\n",
    "# matrix_array_20 = np.concatenate(loaded_arrays_matrix, axis=0)\n",
    "# # answer_array_20 = np.concatenate(loaded_arrays_answer, axis=0)"
   ]
  },
  {
   "cell_type": "code",
   "execution_count": 18,
   "metadata": {},
   "outputs": [
    {
     "data": {
      "text/plain": [
       "(580843, 20, 19)"
      ]
     },
     "execution_count": 18,
     "metadata": {},
     "output_type": "execute_result"
    }
   ],
   "source": [
    "# matrix_array_20.shape, answer_array_20.shape\n",
    "matrix_array_20.shape"
   ]
  },
  {
   "cell_type": "markdown",
   "metadata": {},
   "source": [
    "## back to maxtrix_array_40"
   ]
  },
  {
   "cell_type": "code",
   "execution_count": 15,
   "metadata": {},
   "outputs": [],
   "source": [
    "matrix_array_40 = np.load('Data/matrix_array_40.npy')\n",
    "answer_array_40 = np.load('Data/answer_array_40.npy')\n",
    "\n",
    "# List of file names to load\n",
    "# file_names_matrix = [f\"Data/matrix_array_40_{i}.npy\" for i in range(11)]  # Adjust range as needed\n",
    "# file_names_answer = [f\"Data/answer_array_40_{i}.npy\" for i in range(11)]\n",
    "\n",
    "# # Load each file and store in a list\n",
    "# loaded_arrays_matrix = [np.load(file_name) for file_name in file_names_matrix]\n",
    "# loaded_arrays_answer = [np.load(file_name) for file_name in file_names_answer]\n",
    "\n",
    "# # Concatenate all arrays into a single array\n",
    "# matrix_array_40 = np.concatenate(loaded_arrays_matrix, axis=0)\n",
    "# answer_array_40 = np.concatenate(loaded_arrays_answer, axis=0)\n",
    "\n",
    "# np.save('Data/matrix_array_40.npy', matrix_array_40)\n",
    "# np.save('Data/answer_array_40.npy', answer_array_40)"
   ]
  },
  {
   "cell_type": "code",
   "execution_count": 16,
   "metadata": {},
   "outputs": [
    {
     "data": {
      "text/plain": [
       "((580623, 40, 19), (580623, 3))"
      ]
     },
     "execution_count": 16,
     "metadata": {},
     "output_type": "execute_result"
    }
   ],
   "source": [
    "matrix_array_40.shape, answer_array_40.shape"
   ]
  },
  {
   "cell_type": "markdown",
   "metadata": {},
   "source": [
    "## back to maxtrix_array_60"
   ]
  },
  {
   "cell_type": "code",
   "execution_count": 13,
   "metadata": {},
   "outputs": [],
   "source": [
    "matrix_array_60 = np.load('Data/matrix_array_60.npy')\n",
    "answer_array_60 = np.load('Data/answer_array_60.npy')"
   ]
  },
  {
   "cell_type": "code",
   "execution_count": 14,
   "metadata": {},
   "outputs": [
    {
     "data": {
      "text/plain": [
       "((580403, 60, 19), (580403, 3))"
      ]
     },
     "execution_count": 14,
     "metadata": {},
     "output_type": "execute_result"
    }
   ],
   "source": [
    "matrix_array_60.shape, answer_array_60.shape"
   ]
  },
  {
   "cell_type": "markdown",
   "metadata": {},
   "source": [
    "## back to maxtrix_array_80"
   ]
  },
  {
   "cell_type": "code",
   "execution_count": 11,
   "metadata": {},
   "outputs": [],
   "source": [
    "matrix_array_80 = np.load('Data/matrix_array_80.npy')\n",
    "answer_array_80 = np.load('Data/answer_array_80.npy')"
   ]
  },
  {
   "cell_type": "code",
   "execution_count": 12,
   "metadata": {},
   "outputs": [
    {
     "data": {
      "text/plain": [
       "((580183, 80, 19), (580183, 3))"
      ]
     },
     "execution_count": 12,
     "metadata": {},
     "output_type": "execute_result"
    }
   ],
   "source": [
    "matrix_array_80.shape, answer_array_80.shape"
   ]
  },
  {
   "cell_type": "code",
   "execution_count": null,
   "metadata": {},
   "outputs": [],
   "source": []
  }
 ],
 "metadata": {
  "kernelspec": {
   "display_name": "binance",
   "language": "python",
   "name": "python3"
  },
  "language_info": {
   "codemirror_mode": {
    "name": "ipython",
    "version": 3
   },
   "file_extension": ".py",
   "mimetype": "text/x-python",
   "name": "python",
   "nbconvert_exporter": "python",
   "pygments_lexer": "ipython3",
   "version": "3.12.1"
  }
 },
 "nbformat": 4,
 "nbformat_minor": 2
}
